{
 "cells": [
  {
   "cell_type": "markdown",
   "metadata": {},
   "source": [
    "### LC 744: Find Smallest Letter Greater Than Target"
   ]
  },
  {
   "cell_type": "code",
   "execution_count": 1,
   "metadata": {},
   "outputs": [],
   "source": [
    "def nextGreatestLetter(letters, target):\n",
    "    \n",
    "    if len(letters) == 0: return -1\n",
    "        \n",
    "    left,right = 0, len(letters)\n",
    "    \n",
    "    while left < right:\n",
    "        mid = left + (right-left)//2\n",
    "        if letters[mid] <= target:\n",
    "            left = mid + 1\n",
    "        else:\n",
    "            right = mid\n",
    "  \n",
    "    return letters[left%len(letters)]"
   ]
  },
  {
   "cell_type": "markdown",
   "metadata": {},
   "source": [
    "### LC 475: Heaters"
   ]
  },
  {
   "cell_type": "code",
   "execution_count": 2,
   "metadata": {},
   "outputs": [],
   "source": [
    "def findRadius(houses,heaters):\n",
    "    \n",
    "    if len(houses) == 0 or len(heaters) == 0: return -1\n",
    "    res = 0\n",
    "    houses.sort()\n",
    "    heaters.sort()\n",
    "    \n",
    "    for h in houses:    \n",
    "        left, right = 0, len(heaters)-1\n",
    "        while left < right:\n",
    "            mid = left + (right - left)//2\n",
    "            if heaters[mid] < h:\n",
    "                left = mid +1\n",
    "            else:\n",
    "                right = mid\n",
    "                \n",
    "        dis_1 = abs(heaters[right] - h) \n",
    "        dis_2 = abs(h - heaters[right - 1])\n",
    "        res = max(res, min(dis_1,dis_2))\n",
    "    \n",
    "    return res\n",
    "            \n"
   ]
  },
  {
   "cell_type": "markdown",
   "metadata": {},
   "source": [
    "### LC 74: Search a 2D Matrix"
   ]
  },
  {
   "cell_type": "code",
   "execution_count": 3,
   "metadata": {},
   "outputs": [],
   "source": [
    "def searchMatrix(matrix, target):\n",
    "    \n",
    "    if len(matrix) == 0: return False\n",
    "    left,right = 0, len(matrix) * len(matrix[0])-1\n",
    "    n = len(matrix[0])\n",
    "    \n",
    "    while left <= right:\n",
    "        mid = left + (right - left)/2 \n",
    "        if matrix[int(mid/n)][int(mid%n)] == target:\n",
    "            return true\n",
    "            \n",
    "        elif matrix[int(mid/n)][int(mid%n)] < target:\n",
    "            left = mid + 1\n",
    "        else:\n",
    "            right = mid    \n",
    "    return False\n"
   ]
  },
  {
   "cell_type": "markdown",
   "metadata": {},
   "source": [
    "### LC 34: Find First and Last Position of Element in Sorted Array"
   ]
  },
  {
   "cell_type": "code",
   "execution_count": 4,
   "metadata": {},
   "outputs": [],
   "source": [
    "def index_search(nums, target,condition):\n",
    "    if len(nums) == 0: return -1\n",
    "    \n",
    "    left, right = 0, len(nums)\n",
    "    while left<right:\n",
    "        mid = left + (right-left)//2\n",
    "        if nums[mid] > target or (left and nums[mid]== target):\n",
    "            right = mid\n",
    "        else:\n",
    "            left = mid + 1\n",
    "    return left       \n",
    "   \n",
    "def searchRange(nums, target):\n",
    "    \n",
    "    left_index = index_search(nums, target, True)\n",
    "    right_index = index_search(nums, target, False)-1\n",
    "    if left_index == len(nums) or nums[left_index] != target:\n",
    "        return [-1, -1]\n",
    "\n",
    "    return [left_index, right_index]"
   ]
  },
  {
   "cell_type": "markdown",
   "metadata": {},
   "source": [
    "### LC 719:  Find K-th Smallest Pair Distance"
   ]
  },
  {
   "cell_type": "code",
   "execution_count": 5,
   "metadata": {},
   "outputs": [],
   "source": [
    "def smallestDistancePair(nums, k):\n",
    "\n",
    "    left,right = 0,nums[-1] - nums[0]\n",
    "    while left <= right:\n",
    "        mid = left + (right - left)//2\n",
    "        start,count = 0,0\n",
    "        for i in range(0,len(nums)):\n",
    "            while start <len(nums) and nums[start]-nums[i] <= mid:\n",
    "                start+=1\n",
    "                count += start - i + 1\n",
    "        if count >= k:\n",
    "            right = mid - 1\n",
    "        else:\n",
    "            left = mid + 1\n",
    "    return left"
   ]
  },
  {
   "cell_type": "markdown",
   "metadata": {},
   "source": [
    "### Google 面经题"
   ]
  },
  {
   "cell_type": "code",
   "execution_count": 6,
   "metadata": {},
   "outputs": [],
   "source": [
    "def minDistanceBetweenGasStations(statons,K):\n",
    "    \n",
    "    left, right = 0, stations[-1] - stations[0]\n",
    "    \n",
    "    while left < right:\n",
    "        mid = left + (right -left) // 2\n",
    "        count = 0\n",
    "        for i in range(len(stations) - 1):\n",
    "            count += (stations[i + 1] - stations[i]) // mid \n",
    "            if count > K:\n",
    "                left = mid\n",
    "            else:\n",
    "                right = mid    \n",
    "    return right "
   ]
  }
 ],
 "metadata": {
  "kernelspec": {
   "display_name": "Python 3",
   "language": "python",
   "name": "python3"
  },
  "language_info": {
   "codemirror_mode": {
    "name": "ipython",
    "version": 3
   },
   "file_extension": ".py",
   "mimetype": "text/x-python",
   "name": "python",
   "nbconvert_exporter": "python",
   "pygments_lexer": "ipython3",
   "version": "3.6.4"
  }
 },
 "nbformat": 4,
 "nbformat_minor": 2
}
