{
 "cells": [
  {
   "cell_type": "markdown",
   "metadata": {},
   "source": [
    "### 783. Minimum Distance Between BST Nodes\n"
   ]
  },
  {
   "cell_type": "code",
   "execution_count": null,
   "metadata": {},
   "outputs": [],
   "source": [
    "class Solution:\n",
    "    def minDiffInBST(self, root: TreeNode) -> int:\n",
    "        \n",
    "        self.mindiff = float('inf')\n",
    "        self.prev = float('-inf')\n",
    "        \n",
    "        def dfs(node):\n",
    "            if not node: return []\n",
    "            if node: \n",
    "                dfs(node.left)\n",
    "                self.mindiff = min(self.mindiff, node.val - self.prev)\n",
    "                self.prev = node.val\n",
    "                dfs(node.right)\n",
    "        dfs(root)\n",
    "        \n",
    "        return self.mindiff"
   ]
  },
  {
   "cell_type": "markdown",
   "metadata": {},
   "source": [
    "### Reverse a Doubly Linked List using Recursion"
   ]
  },
  {
   "cell_type": "code",
   "execution_count": null,
   "metadata": {},
   "outputs": [],
   "source": [
    "class Node:\n",
    "    def __init__(self, data): \n",
    "        self.data = data  \n",
    "        self.next = None\n",
    "        self.prev = None\n",
    "    \n",
    "    def reverse(node):\n",
    "        if not node: return None\n",
    "        temp = node.next\n",
    "        node.next = node.prev\n",
    "        node.prev = temp\n",
    "        if not temp:\n",
    "            return node\n",
    "        else:\n",
    "            return reverse(temp)\n",
    "        \n",
    "    def printList(self, node): \n",
    "        while node: \n",
    "            print(node.data) \n",
    "            node = node.next"
   ]
  },
  {
   "cell_type": "markdown",
   "metadata": {},
   "source": [
    "### 687. Longest Univalue Path\n"
   ]
  },
  {
   "cell_type": "code",
   "execution_count": null,
   "metadata": {},
   "outputs": [],
   "source": [
    "class Solution:\n",
    "    def longestUnivaluePath(self, root: TreeNode) -> int:\n",
    "        self.longestpath = 0\n",
    "        \n",
    "        def path_length(node):\n",
    "            if not node: return 0\n",
    "            left_len = path_length(node.left)\n",
    "            right_len = path_length(node.right)\n",
    "            \n",
    "            left_path = 0\n",
    "            right_path = 0\n",
    "            \n",
    "            if node.left and node.left.val == node.val:\n",
    "                left_path = left_len + 1\n",
    "            if node.right and node.right.val == node.val:\n",
    "                right_path = right_len + 1\n",
    "            self.longestpath = max(self.longestpath, left_path + right_path)\n",
    "            return max(left_path,right_path)\n",
    "        \n",
    "        path_length(root)\n",
    "        \n",
    "        return self.longestpath\n",
    "    "
   ]
  },
  {
   "cell_type": "markdown",
   "metadata": {},
   "source": [
    "### 698. Partition to K Equal Sum Subsets\n"
   ]
  },
  {
   "cell_type": "code",
   "execution_count": null,
   "metadata": {},
   "outputs": [],
   "source": [
    "class Solution:\n",
    "    def canPartitionKSubsets(self, nums: List[int], k: int) -> bool:\n",
    "        sum_ = sum(nums)\n",
    "        if sum_ %k != 0: return False\n",
    "        target = sum_/k\n",
    "        \n",
    "        def partition(subsets):\n",
    "            if not nums: return True\n",
    "            selected = nums.pop()\n",
    "            for i,j in enumerate(subsets):\n",
    "                if j+selected <= target:\n",
    "                    subsets[i] += selected\n",
    "                    if partition(groups): return True\n",
    "                    groups[i] -= selected\n",
    "            nums.append(selected)\n",
    "            return False\n",
    "            \n",
    "        sorted(nums)\n",
    "        if num[-1] > target: return False\n",
    "        \n",
    "        while num and num[-1] == target:\n",
    "            nums.pop()\n",
    "            k -= 1\n",
    "        return partition([0]*k)\n",
    "        \n",
    "       "
   ]
  },
  {
   "cell_type": "markdown",
   "metadata": {},
   "source": [
    "### 794. Valid Tic-Tac-Toe State\n"
   ]
  },
  {
   "cell_type": "code",
   "execution_count": null,
   "metadata": {},
   "outputs": [],
   "source": [
    "class Solution:\n",
    "    def validTicTacToe(self, board: List[str]) -> bool:\n",
    "\n",
    "        count_X = 0\n",
    "        count_O = 0\n",
    "        xOK = 0\n",
    "        oOk = 0\n",
    "        \n",
    "        for i in range(3):\n",
    "            for j in range(3):\n",
    "                if board[i][j] == 'X': count_X += 1\n",
    "                elif board[i][j] == 'O': count_O += 1\n",
    "        if count_X != count_O and count_X - count_O!= 1: return False\n",
    "       \n",
    "        for i in range(3):\n",
    "            if board[i][0] == board[i][1] and board[i][1] == board[i][2] and board[i][0] != ' ':\n",
    "                if board[i][0] == 'X':\n",
    "                    xOk += 1\n",
    "                else: \n",
    "                    oOk += 1\n",
    "            if board[0][i] == board[1][i] and board[1][i] == board[2][i] and board[0 ][i] != ' ':\n",
    "                if board[0][i] == 'X':\n",
    "                    xOk += 1\n",
    "                else:\n",
    "                    oOk += 1\n",
    "        if board[0][0] == board[1][1] and board[1][1] == board[2][2] and board[0][0] != ' ':\n",
    "            if board[0][0] == 'X':\n",
    "                xOk += 1\n",
    "            else:\n",
    "                oOk += 1;\n",
    "  \n",
    "        if board[0][2] == board[1][1] and board[1][1] == board[2][0] and board[0][2] != ' ':\n",
    "            if board[0][2] == 'X':\n",
    "                xOk += 1\n",
    "            else:\n",
    "                oOk += 1\n",
    "  \n",
    "        if xOk > 0 and oOk > 0: return false\n",
    "        elif xOk > 0 and xNum <= oNum: return false\n",
    "        elif oOk > 0 and xNum > oNum: return false\n",
    "        \n",
    "        return true"
   ]
  },
  {
   "cell_type": "markdown",
   "metadata": {},
   "source": [
    "### 726. Number of Atoms\n",
    "原文链接：https://blog.csdn.net/fuxuemingzhu/article/details/82938164"
   ]
  },
  {
   "cell_type": "code",
   "execution_count": null,
   "metadata": {},
   "outputs": [],
   "source": [
    "import collections\n",
    "class Solution(object):\n",
    "    def countOfAtoms(self, formula):\n",
    "\n",
    "        count = self.dfs(formula)\n",
    "        res = \"\"\n",
    "        for atom, num in sorted(count.items()):\n",
    "            if num == 1:\n",
    "                res += atom\n",
    "            else:\n",
    "                res += atom + str(num)\n",
    "        return res\n",
    "        \n",
    "    def dfs(self, formula):\n",
    "        count = collections.Counter()\n",
    "        if not formula: return count\n",
    "        i = 0\n",
    "        while i < len(formula):\n",
    "            if formula[i].isalpha(): \n",
    "                atom = formula[i]\n",
    "                atomNum = 0\n",
    "                i += 1\n",
    "                while i < len(formula) and formula[i].isalpha() and formula[i].islower():\n",
    "                    atom += formula[i]\n",
    "                    i += 1\n",
    "                while i < len(formula) and formula[i].isdigit(): \n",
    "                    atomNum = 10 * atomNum + int(formula[i])\n",
    "                    i += 1\n",
    "                count[atom] += 1 if atomNum == 0 else atomNum　\n",
    "            elif formula[i] == \"(\": \n",
    "                left = i \n",
    "                parent = 1 \n",
    "                while i < len(formula) and parent != 0:\n",
    "                    i += 1\n",
    "                    if formula[i] == \"(\":\n",
    "                        parent += 1\n",
    "                    elif formula[i] == \")\":\n",
    "                        parent -= 1\n",
    "                right = i\n",
    "                atomNum = 0\n",
    "                i += 1\n",
    "                while i < len(formula) and formula[i].isdigit(): \n",
    "                    atomNum = 10 * atomNum + int(formula[i])\n",
    "                    i += 1\n",
    "                innerCount = self.dfs(formula[left + 1 : right])\n",
    "                for c, n in innerCount.items():\n",
    "                    count[c] += n * atomNum\n",
    "        count += self.dfs(formula[i + 1:])\n",
    "        return count\n"
   ]
  }
 ],
 "metadata": {
  "kernelspec": {
   "display_name": "Python 3",
   "language": "python",
   "name": "python3"
  },
  "language_info": {
   "codemirror_mode": {
    "name": "ipython",
    "version": 3
   },
   "file_extension": ".py",
   "mimetype": "text/x-python",
   "name": "python",
   "nbconvert_exporter": "python",
   "pygments_lexer": "ipython3",
   "version": "3.6.5"
  }
 },
 "nbformat": 4,
 "nbformat_minor": 2
}
